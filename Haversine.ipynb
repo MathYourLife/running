{
 "metadata": {
  "name": "",
  "signature": "sha256:1dd0f343227e028e2e0c52d796033f95447e3b946e3dec2ce6295575b7525a70"
 },
 "nbformat": 3,
 "nbformat_minor": 0,
 "worksheets": [
  {
   "cells": [
    {
     "cell_type": "markdown",
     "metadata": {},
     "source": [
      "## Haversine Formula\n",
      "\n",
      "* Dan Couture\n",
      "* [@MathYourLife](https://twitter.com/MathYourLife)\n",
      "* 2014-12-30\n",
      "\n",
      "The goal for this formula is to calculate the shortest great circle distance between two points on the globe designated by latitude and longitudes.  The added benefit of the Haversine equation is that it calculates the central angle as well where $s = r\\theta$.\n",
      "\n",
      "The Haversine formula assumes a constant radius Earth and does not account for elevation changes between locations.\n",
      "\n",
      "$$\n",
      "d = 2r \\arcsin\\left( \\sqrt{\\sin^2 \\left(\\frac{\\phi_2-\\phi_1}{2}\\right) + \\cos(\\phi_1)\\cos(\\phi_2)\\sin^2 \\left( \\frac{\\lambda_2-\\lambda_1}{2} \\right) } \\right)\n",
      "$$\n",
      "\n",
      "where:\n",
      "\n",
      "* $\\phi$: latitude\n",
      "* $\\lambda$: longitude\n",
      "* $r$: Radius of the sphere"
     ]
    },
    {
     "cell_type": "code",
     "collapsed": false,
     "input": [
      "import numpy as np\n",
      "import math\n",
      "\n",
      "# Mean radius of the earth\n",
      "EARTH_RADIUS = 6371.009\n",
      "\n",
      "def haversine(lat1, lon1, lat2, lon2):\n",
      "    \"\"\"\n",
      "    Calculate the great circle distance between two points\n",
      "    on the earth (specified in decimal degrees)\n",
      "    \n",
      "    Return (central angle, distance between points in km)\n",
      "    \"\"\"\n",
      "    # convert decimal degrees to radians\n",
      "    lat1, lon1, lat2, lon2 = [math.radians(x) for x in [lat1, lon1, lat2, lon2]]\n",
      "\n",
      "    # haversine formula\n",
      "    dlon = lon2 - lon1\n",
      "    dlat = lat2 - lat1\n",
      "    \n",
      "    a = math.sin(dlat/2)**2 + math.cos(lat1) * math.cos(lat2) * math.sin(dlon/2)**2\n",
      "    central_angle = 2 * math.asin(math.sqrt(a))\n",
      "\n",
      "    # s = r * theta\n",
      "    km = EARTH_RADIUS * central_angle\n",
      "    return (central_angle, km)"
     ],
     "language": "python",
     "metadata": {},
     "outputs": [],
     "prompt_number": 1
    },
    {
     "cell_type": "markdown",
     "metadata": {},
     "source": [
      "### Test around the equator\n",
      "\n",
      "Test the Haversine formula against a half distance around the equator.  Assumes the equitorial radius is equal to the mean radius."
     ]
    },
    {
     "cell_type": "code",
     "collapsed": false,
     "input": [
      "print(haversine(0, -90, 0, 90))\n",
      "print(2 * np.pi * EARTH_RADIUS / 2)"
     ],
     "language": "python",
     "metadata": {},
     "outputs": [
      {
       "output_type": "stream",
       "stream": "stdout",
       "text": [
        "(3.141592653589793, 20015.115070354455)\n",
        "20015.115070354455\n"
       ]
      }
     ],
     "prompt_number": 2
    },
    {
     "cell_type": "markdown",
     "metadata": {},
     "source": [
      "### Test Against the Great Circle Mapper\n",
      "\n",
      "* From: DXB 25\u00b015'10\"N 55\u00b021'52\"E\n",
      "* To: SFO 37\u00b037'08\"N 122\u00b022'32\"W\n",
      "* Distance: 13041 km\n",
      "\n",
      "```\n",
      "The Great Circle Mapper uses the same WGS 84 reference ellipsoid used by the Global Positioning System (GPS). The WGS 84 ellipsoid has a polar radius of 6356.752 km and an equatorial radius of 6378.137 km.\n",
      "```\n",
      "ref: http://www.gcmap.com/faq/gccalc#ellipsoid"
     ]
    },
    {
     "cell_type": "code",
     "collapsed": false,
     "input": [
      "lat1 = 25+15/60.+10/3600.\n",
      "lon1 = 55+21/60.+52/3600.\n",
      "lat2 = 37+37/60.+8/3600.\n",
      "lon2 = -122+22/60.+32/3600.\n",
      "haversine(lat1, lon1, lat2, lon2)"
     ],
     "language": "python",
     "metadata": {},
     "outputs": [
      {
       "metadata": {},
       "output_type": "pyout",
       "prompt_number": 3,
       "text": [
        "(2.0431640443445644, 13017.01651499562)"
       ]
      }
     ],
     "prompt_number": 3
    },
    {
     "cell_type": "markdown",
     "metadata": {},
     "source": [
      "## References:\n",
      "\n",
      "* http://stackoverflow.com/questions/4913349/haversine-formula-in-python-bearing-and-distance-between-two-gps-points/4913653#4913653\n",
      "* http://www.gcmap.com/mapui?P=DXB-SFO%2CBINP&PM=b%3Adisc7%2B%25U%2Cp%3Adisc7%2B%25N&MS=wls&PW=2&DU=km"
     ]
    },
    {
     "cell_type": "code",
     "collapsed": false,
     "input": [],
     "language": "python",
     "metadata": {},
     "outputs": [],
     "prompt_number": 3
    }
   ],
   "metadata": {}
  }
 ]
}