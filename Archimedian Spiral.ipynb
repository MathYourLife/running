{
 "metadata": {
  "name": "",
  "signature": "sha256:99b5dc61c1923b0412c24ebb7edf7c2c8e656af8e79e17db2b9aaad56d2a4693"
 },
 "nbformat": 3,
 "nbformat_minor": 0,
 "worksheets": [
  {
   "cells": [
    {
     "cell_type": "markdown",
     "metadata": {},
     "source": [
      "## The Archimedean Spiral\n",
      "\n",
      "* Dan Couture\n",
      "* [@MathYourLife](https://twitter.com/MathYourLife)\n",
      "* 2014-12-29\n",
      "\n",
      "This investigation was born out of work on calculating stats on running data.  The Haversine formula is good for calculating distance along the great circle for two sets of latitude/longitude.  The formula however does not account for elevation changes.  Other solutions incorporate the Pythagorean Theorem to compensate for the additional elevation changes.  For a long enough distance a linear increase in altitude actually follows a curved path known as an Archimedean spiral.\n",
      "\n",
      "The archimedean spiral is a path that forms where the radius of the spiral increases linearly with $\\theta$. This spiral occurs in situations with spooled material such as coiled wire or spools of paper."
     ]
    },
    {
     "cell_type": "code",
     "collapsed": false,
     "input": [
      "import numpy as np\n",
      "import matplotlib.pyplot as plt\n",
      "%matplotlib inline"
     ],
     "language": "python",
     "metadata": {},
     "outputs": [],
     "prompt_number": 1
    },
    {
     "cell_type": "markdown",
     "metadata": {},
     "source": [
      "**Goal: Create a function that calculates the distance for a section of an Archimedean spiral.**\n",
      "\n",
      "* Create an arbitraty section of an Archimedean spiral\n",
      "* Calculate a numerical estimate for the total distance of the arc\n",
      "* Create a function that calculates the distance along an Archimedian arc\n",
      "* Validate the functions accuracy with the numeric simulation"
     ]
    },
    {
     "cell_type": "markdown",
     "metadata": {},
     "source": [
      "### Numerical Simulation\n",
      "\n",
      "Create an Archimedean spiral starting at a radius of 1.5 increasing in radius by 2 for every revolution."
     ]
    },
    {
     "cell_type": "code",
     "collapsed": false,
     "input": [
      "theta_0 = np.pi / 2 * 3\n",
      "theta_f = np.pi / 2 * 11\n",
      "r0 = 1.5\n",
      "thickness = 2\n",
      "\n",
      "thetas = np.linspace(theta_0, theta_f, 10000)\n",
      "drdtheta = thickness / (2 * np.pi)\n",
      "r = [drdtheta * (theta - theta_0) + r0 for theta in thetas]\n",
      "pts = [(r*np.cos(theta), r*np.sin(theta)) for r, theta in zip(r, thetas)]"
     ],
     "language": "python",
     "metadata": {},
     "outputs": [],
     "prompt_number": 2
    },
    {
     "cell_type": "code",
     "collapsed": false,
     "input": [
      "plt.plot(*zip(*pts))\n",
      "plt.grid()\n",
      "lim = np.ceil(max(r))\n",
      "plt.xlim([-lim,lim])\n",
      "plt.ylim([-lim,lim]);"
     ],
     "language": "python",
     "metadata": {},
     "outputs": [
      {
       "metadata": {},
       "output_type": "display_data",
       "png": "[encoded data removed]",
       "text": [
        "<matplotlib.figure.Figure at 0x7f699983dd30>"
       ]
      }
     ],
     "prompt_number": 3
    },
    {
     "cell_type": "markdown",
     "metadata": {},
     "source": [
      "### Numerical Simulation - Length of a Archimedean Spiral\n",
      "\n",
      "Using the points generated for the above arc determine the total length of the arc using the sum of the distances between points.\n",
      "\n",
      "$$\n",
      "\\text{arc length} \\approx \\sum^{N-1}_{i=1} \\sqrt{(x_{i+1}-x_i)^2+(y_{i+1}-y_i)^2}\n",
      "$$"
     ]
    },
    {
     "cell_type": "code",
     "collapsed": false,
     "input": [
      "l_est = 0\n",
      "last_pt = None\n",
      "for pt in pts:\n",
      "    if last_pt is not None:\n",
      "        dl = np.sqrt((pt[0] - last_pt[0])**2 + (pt[1] - last_pt[1])**2)\n",
      "        l_est += dl\n",
      "    last_pt = pt\n",
      "\n",
      "print(l_est)"
     ],
     "language": "python",
     "metadata": {},
     "outputs": [
      {
       "output_type": "stream",
       "stream": "stdout",
       "text": [
        "44.1882621017\n"
       ]
      }
     ],
     "prompt_number": 4
    },
    {
     "cell_type": "markdown",
     "metadata": {},
     "source": [
      "## Arc Length Formula"
     ]
    },
    {
     "cell_type": "markdown",
     "metadata": {},
     "source": [
      "$$\n",
      "L = \\frac{a}{2} \\left[ \\phi \\sqrt{1+\\phi^2} + \\ln\\left( \\phi + \\sqrt{1 + \\phi^2} \\right) \\right]^{\\phi_2}_{\\phi_1}\n",
      "$$\n",
      "\n",
      "where\n",
      "\n",
      "$\n",
      "a = T / 2 \\pi \\\\\n",
      "\\phi = r / a \\\\\n",
      "r = \\text{radius} \\\\\n",
      "T = \\text{change in radius for each full turn} \\\\\n",
      "$\n"
     ]
    },
    {
     "cell_type": "code",
     "collapsed": false,
     "input": [
      "T = 2     # Thickness between spirals\n",
      "r0 = 1.5  # Starting radius\n",
      "rf = 5.5  # Ending radius\n",
      "\n",
      "def archimedean_length(r0, rf, T):\n",
      "    \n",
      "    def limit(radius, thickness, a):\n",
      "        phi = radius / a\n",
      "        return phi * np.sqrt(1+phi**2)+np.log(phi+np.sqrt(1+phi**2))\n",
      "    \n",
      "    a = T / (2 * np.pi)\n",
      "    return a / 2 * (limit(rf, T, a) - limit(r0, T, a))\n",
      "\n",
      "print(archimedean_length(r0, rf, T))"
     ],
     "language": "python",
     "metadata": {},
     "outputs": [
      {
       "output_type": "stream",
       "stream": "stdout",
       "text": [
        "44.1882650642\n"
       ]
      }
     ],
     "prompt_number": 5
    },
    {
     "cell_type": "markdown",
     "metadata": {},
     "source": [
      "References:\n",
      "\n",
      "* http://www.intmath.com/blog/mathematics/length-of-an-archimedean-spiral-6595\n",
      "* http://mtl.math.uiuc.edu/special_presentations/JoansPaperRollProblem.pdf\n",
      "* http://math.tutorvista.com/calculus/archimedes-spiral.html\n",
      "* http://math.stackexchange.com/questions/126062/finding-a-point-on-archimedean-spiral-by-its-path-length\n",
      "* http://www.encyclopediaofmath.org/index.php/Archimedean_spiral"
     ]
    },
    {
     "cell_type": "code",
     "collapsed": false,
     "input": [],
     "language": "python",
     "metadata": {},
     "outputs": [],
     "prompt_number": 5
    }
   ],
   "metadata": {}
  }
 ]
}